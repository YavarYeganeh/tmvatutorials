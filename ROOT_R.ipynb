{
 "cells": [
  {
   "cell_type": "markdown",
   "metadata": {},
   "source": [
    "<img src=\"http://oproject.org/tiki-download_file.php?fileId=6&display\">\n",
    "\n",
    "## ROOT-R Example"
   ]
  },
  {
   "cell_type": "code",
   "execution_count": null,
   "metadata": {
    "collapsed": false
   },
   "outputs": [],
   "source": [
    "#include<TRInterface.h>\n",
    "ROOT::R::TRInterface &r=ROOT::R::TRInterface::Instance();"
   ]
  },
  {
   "cell_type": "markdown",
   "metadata": {},
   "source": [
    "### ROOT-R Minimization:\n",
    "A simple example using random points with Gaussian distribution. "
   ]
  },
  {
   "cell_type": "code",
   "execution_count": null,
   "metadata": {
    "collapsed": false
   },
   "outputs": [],
   "source": [
    "%jsroot\n",
    "TCanvas  *c=new TCanvas(\"c\");\n",
    "TH1D h1(\"h1\",\"h1\",200,-3,3);\n",
    "h1.FillRandom(\"gaus\");\n",
    "ROOT::Math::MinimizerOptions::SetDefaultMinimizer(\"RMinimizer\",\"BFGS\");\n",
    "h1.Fit(\"gaus\");\n",
    "c->Draw();"
   ]
  },
  {
   "cell_type": "markdown",
   "metadata": {},
   "source": [
    "## Fit in R and plot in ROOT\n",
    "The next example creates an exponential fit. \n",
    "The idea is to create a set of numbers x,y plus noise using ROOT, \n",
    "pass them to R, fit the data using nls(Nonlinear Least Squares), \n",
    "obtain fitted coefficient and then plot data, \n",
    "known function and fitted function with ROOT"
   ]
  },
  {
   "cell_type": "code",
   "execution_count": null,
   "metadata": {
    "collapsed": false
   },
   "outputs": [],
   "source": [
    "// draw a frame to define the range\n",
    "TMultiGraph *mg = new TMultiGraph();\n",
    "const Int_t n = 24;\n",
    "Double_t x[n] ;\n",
    "Double_t y[n] ;"
   ]
  },
  {
   "cell_type": "markdown",
   "metadata": {},
   "source": [
    "## Create data\n",
    "Generate random points from $X^3$ with noise"
   ]
  },
  {
   "cell_type": "code",
   "execution_count": null,
   "metadata": {
    "collapsed": false
   },
   "outputs": [],
   "source": [
    "TRandom rg;\n",
    "rg.SetSeed(520);\n",
    "for (Int_t i = 0; i < n; i++) {\n",
    "      x[i] = rg.Uniform(0, 1);\n",
    "      y[i] = TMath::Power(x[i], 3) + rg.Gaus() * 0.06;\n",
    "}"
   ]
  },
  {
   "cell_type": "markdown",
   "metadata": {},
   "source": [
    "## Plot"
   ]
  },
  {
   "cell_type": "code",
   "execution_count": null,
   "metadata": {
    "collapsed": false
   },
   "outputs": [],
   "source": [
    "TGraph *gr1 = new TGraph(n,x,y);\n",
    "gr1->SetMarkerColor(kBlue);\n",
    "gr1->SetMarkerStyle(8);\n",
    "gr1->SetMarkerSize(1);\n",
    "mg->Add(gr1);\n",
    "\n",
    "TF1 *f_known=new TF1(\"f_known\",\"pow(x,3)\",0,1);\n",
    "TGraph *gr2 = new TGraph(f_known);\n",
    "gr2->SetMarkerColor(kRed);\n",
    "gr2->SetMarkerStyle(8);\n",
    "gr2->SetMarkerSize(1);\n",
    "mg->Add(gr2);"
   ]
  },
  {
   "cell_type": "markdown",
   "metadata": {},
   "source": [
    "## Passing Data to R environment\n",
    "passing data to R for fitting"
   ]
  },
  {
   "cell_type": "code",
   "execution_count": null,
   "metadata": {
    "collapsed": false
   },
   "outputs": [],
   "source": [
    "TVectorD vx(n, x);\n",
    "TVectorD vy(n, y);\n",
    "r[\"x\"]=vx;\n",
    "r[\"y\"]=vy;\n",
    "r<<\"ds<-data.frame(x=x,y=y)\";"
   ]
  },
  {
   "cell_type": "markdown",
   "metadata": {},
   "source": [
    "## Fitting with Nonlinear Least Squares"
   ]
  },
  {
   "cell_type": "code",
   "execution_count": null,
   "metadata": {
    "collapsed": false,
    "scrolled": true
   },
   "outputs": [],
   "source": [
    "r<<\"m <- nls(y ~ I(x^power),data = ds, start = list(power = 1),trace = T)\";"
   ]
  },
  {
   "cell_type": "code",
   "execution_count": null,
   "metadata": {
    "collapsed": false
   },
   "outputs": [],
   "source": [
    "Double_t power;\n",
    "r[\"summary(m)$coefficients[1]\"]>>power;"
   ]
  },
  {
   "cell_type": "markdown",
   "metadata": {},
   "source": [
    "## Plot in ROOT\n",
    "plot fitted function"
   ]
  },
  {
   "cell_type": "code",
   "execution_count": null,
   "metadata": {
    "collapsed": false
   },
   "outputs": [],
   "source": [
    "TCanvas *c1 = new TCanvas(\"c1\",\"Curve Fitting\",700,500);\n",
    "c1->SetGrid();\n",
    "\n",
    "TF1 *f_fitted=new TF1(\"f_fitted\",\"pow(x,[0])\",0,1);\n",
    "f_fitted->SetParameter(0,power);\n",
    "\n",
    "TGraph *gr3 = new TGraph(f_fitted);\n",
    "gr3->SetMarkerColor(kGreen);\n",
    "gr3->SetMarkerStyle(8);\n",
    "gr3->SetMarkerSize(1);\n",
    "\n",
    "mg->Add(gr3);\n",
    "mg->Draw(\"ap\");\n",
    "TPaveText *pt = new TPaveText(0.1,0.6,0.5,0.9,\"brNDC\");\n",
    "pt->SetFillColor(18);\n",
    "pt->SetTextAlign(12);\n",
    "pt->AddText(\"Fitting x^power \");\n",
    "pt->AddText(\" \\\"Blue\\\"   Points with gaussian noise to be fitted\");\n",
    "pt->AddText(\" \\\"Red\\\"    Known function x^3\");\n",
    "TString fmsg;\n",
    "fmsg.Form(\" \\\"Green\\\"  Fitted function with power=%.4lf\",power);\n",
    "pt->AddText(fmsg);\n",
    "pt->Draw();   \n",
    "c1->Update();\n",
    "c1->Draw();"
   ]
  },
  {
   "cell_type": "code",
   "execution_count": null,
   "metadata": {
    "collapsed": true
   },
   "outputs": [],
   "source": []
  }
 ],
 "metadata": {
  "kernelspec": {
   "display_name": "ROOT C++",
   "language": "c++",
   "name": "root"
  },
  "language_info": {
   "codemirror_mode": "text/x-c++src",
   "file_extension": ".C",
   "mimetype": " text/x-c++src",
   "name": "c++"
  }
 },
 "nbformat": 4,
 "nbformat_minor": 0
}
