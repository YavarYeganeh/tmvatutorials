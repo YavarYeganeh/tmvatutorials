{
 "cells": [
  {
   "cell_type": "markdown",
   "metadata": {},
   "source": [
    "<img src=\"http://oproject.org/tiki-download_file.php?fileId=8&display&x=450&y=128\">\n",
    "<img src=\"http://files.oproject.org/tmvalogo.png\" height=\"50%\" width=\"50%\">\n",
    "\n",
    "# TMVA Cross Validation"
   ]
  },
  {
   "cell_type": "markdown",
   "metadata": {},
   "source": [
    "## Declare Factory"
   ]
  },
  {
   "cell_type": "code",
   "execution_count": 1,
   "metadata": {
    "collapsed": false
   },
   "outputs": [],
   "source": [
    "TMVA::Tools::Instance();\n",
    "\n",
    "auto inputFile = TFile::Open(\"https://raw.githubusercontent.com/iml-wg/tmvatutorials/master/inputdata.root\");\n",
    "auto outputFile = TFile::Open(\"TMVAOutputCV.root\", \"RECREATE\");\n",
    "\n",
    "TMVA::Factory factory(\"TMVAClassification\", outputFile,\n",
    "                      \"!V:!ROC:!Correlations:Silent:Color:!DrawProgressBar:AnalysisType=Classification\" ); "
   ]
  },
  {
   "cell_type": "markdown",
   "metadata": {},
   "source": [
    "## Declare DataLoader"
   ]
  },
  {
   "cell_type": "code",
   "execution_count": 2,
   "metadata": {
    "collapsed": false
   },
   "outputs": [],
   "source": [
    "TMVA::DataLoader loader(\"dataset\");\n",
    "\n",
    "loader.AddVariable(\"var1\");\n",
    "loader.AddVariable(\"var2\");\n",
    "loader.AddVariable(\"var3\");\n",
    "loader.AddVariable(\"var4\");\n",
    "loader.AddVariable(\"var5 := var1-var2\");\n",
    "loader.AddVariable(\"var6 := var1*var2\");"
   ]
  },
  {
   "cell_type": "markdown",
   "metadata": {},
   "source": [
    "## Setup Dataset"
   ]
  },
  {
   "cell_type": "code",
   "execution_count": 3,
   "metadata": {
    "collapsed": false
   },
   "outputs": [],
   "source": [
    "TTree *tsignal, *tbackground;\n",
    "inputFile->GetObject(\"Sig\", tsignal);\n",
    "inputFile->GetObject(\"Bkg\", tbackground);\n",
    "\n",
    "TCut mycuts, mycutb;\n",
    "   \n",
    "loader.AddSignalTree    ( tsignal,     1.0 ); //signal weight     = 1\n",
    "loader.AddBackgroundTree( tbackground, 1.0 ); //background weight = 1      \n",
    "loader.PrepareTrainingAndTestTree( mycuts, mycutb,\n",
    "\"nTrain_Signal=1000:nTrain_Background=1000:SplitMode=Random:NormMode=NumEvents:!V\" ); "
   ]
  },
  {
   "cell_type": "markdown",
   "metadata": {},
   "source": [
    "## Perform Cross Validation"
   ]
  },
  {
   "cell_type": "code",
   "execution_count": 4,
   "metadata": {
    "collapsed": false
   },
   "outputs": [],
   "source": [
    "// Book BDT method\n",
    "TMVA::CrossValidation cv(&loader);\n",
    "cv.BookMethod(TMVA::Types::kBDT, \"BDT\",\n",
    "        \"!V:NTrees=10:MinNodeSize=2.5%:MaxDepth=2:nCuts=20\");"
   ]
  },
  {
   "cell_type": "code",
   "execution_count": 5,
   "metadata": {
    "collapsed": false,
    "scrolled": true
   },
   "outputs": [
    {
     "name": "stdout",
     "output_type": "stream",
     "text": [
      "                         : Evaluate method: BDT\n",
      "                         : Evaluation done.\n",
      "<HEADER> CrossValidation          :  ==== Results ====\n",
      "                         : Fold  0 ROC-Int : 0.8487\n",
      "                         : Fold  1 ROC-Int : 0.8563\n",
      "                         : Fold  2 ROC-Int : 0.8588\n",
      "                         : Fold  3 ROC-Int : 0.8470\n",
      "                         : Fold  4 ROC-Int : 0.8547\n",
      "                         : ------------------------\n",
      "                         : Average ROC-Int : 0.8531\n",
      "                         : Std-Dev ROC-Int : 0.0050\n"
     ]
    }
   ],
   "source": [
    "// Run cross-validation and print results\n",
    "cv.Evaluate();\n",
    "TMVA::CrossValidationResult results = cv.GetResults();\n",
    "results.Print();"
   ]
  }
 ],
 "metadata": {
  "kernelspec": {
   "display_name": "ROOT C++",
   "language": "c++",
   "name": "root"
  },
  "language_info": {
   "codemirror_mode": "text/x-c++src",
   "file_extension": ".C",
   "mimetype": " text/x-c++src",
   "name": "c++"
  }
 },
 "nbformat": 4,
 "nbformat_minor": 0
}
