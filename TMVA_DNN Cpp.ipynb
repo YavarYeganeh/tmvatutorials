{
 "cells": [
  {
   "cell_type": "markdown",
   "metadata": {},
   "source": [
    "<img src=\"http://oproject.org/img/ROOT.png\" height=\"30%\" width=\"30%\">\n",
    "<img src=\"http://oproject.org/img/tmvalogo.png\" height=\"30%\" width=\"30%\">"
   ]
  },
  {
   "cell_type": "markdown",
   "metadata": {},
   "source": [
    "<hr style=\"border-top-width: 4px; border-top-color: #34609b;\">"
   ]
  },
  {
   "cell_type": "markdown",
   "metadata": {},
   "source": [
    "# DNN Example"
   ]
  },
  {
   "cell_type": "markdown",
   "metadata": {},
   "source": [
    "## Declare Factory"
   ]
  },
  {
   "cell_type": "code",
   "execution_count": null,
   "metadata": {},
   "outputs": [],
   "source": [
    "TFile* inputFile = TFile::Open(\"inputdata.root\");\n",
    "TFile* outputFile = TFile::Open(\"TMVAOutputDNN.root\", \"RECREATE\");\n",
    "\n",
    "TMVA::Factory factory(\"TMVAClassification\", outputFile,\n",
    "                      \"!V:ROC:!Correlations:!Silent:Color:!DrawProgressBar:AnalysisType=Classification\" ); "
   ]
  },
  {
   "cell_type": "markdown",
   "metadata": {},
   "source": [
    "## Declare DataLoader"
   ]
  },
  {
   "cell_type": "code",
   "execution_count": null,
   "metadata": {},
   "outputs": [],
   "source": [
    "TMVA::DataLoader loader(\"dataset_dnn\");\n",
    "\n",
    "loader.AddVariable(\"var1\");\n",
    "loader.AddVariable(\"var2\");\n",
    "loader.AddVariable(\"var3\");\n",
    "loader.AddVariable(\"var4\");\n",
    "loader.AddVariable(\"var5 := var1-var3\");\n",
    "loader.AddVariable(\"var6 := var1+var2\");"
   ]
  },
  {
   "cell_type": "markdown",
   "metadata": {},
   "source": [
    "## Setup Dataset(s)"
   ]
  },
  {
   "cell_type": "code",
   "execution_count": null,
   "metadata": {},
   "outputs": [],
   "source": [
    "TTree *tsignal = (TTree*) inputFile->Get(\"Sig\");\n",
    "TTree *tbackground = (TTree*) inputFile->Get(\"Bkg\");\n",
    "\n",
    "loader.AddSignalTree(tsignal);\n",
    "loader.AddBackgroundTree(tbackground);\n",
    "loader.PrepareTrainingAndTestTree(\"\",\n",
    "        \"nTrain_Signal=1000:nTrain_Background=1000:SplitMode=Random:NormMode=NumEvents:!V\"); "
   ]
  },
  {
   "cell_type": "markdown",
   "metadata": {},
   "source": [
    "# Configure network layout "
   ]
  },
  {
   "cell_type": "code",
   "execution_count": null,
   "metadata": {},
   "outputs": [],
   "source": [
    "// General layout\n",
    "TString layoutString (\"Layout=TANH|128,TANH|128,TANH|128,LINEAR\");\n",
    "\n",
    "// Training strategies\n",
    "TString training0(\"LearningRate=1e-1,Momentum=0.9,Repetitions=1,\"\n",
    "                        \"ConvergenceSteps=2,BatchSize=256,TestRepetitions=10,\"\n",
    "                        \"WeightDecay=1e-4,Regularization=L2,\"\n",
    "                        \"DropConfig=0.0+0.5+0.5+0.5, Multithreading=True\");\n",
    "TString training1(\"LearningRate=1e-2,Momentum=0.9,Repetitions=1,\"\n",
    "                        \"ConvergenceSteps=2,BatchSize=256,TestRepetitions=10,\"\n",
    "                        \"WeightDecay=1e-4,Regularization=L2,\"\n",
    "                        \"DropConfig=0.0+0.0+0.0+0.0, Multithreading=True\");\n",
    "TString training2(\"LearningRate=1e-3,Momentum=0.0,Repetitions=1,\"\n",
    "                        \"ConvergenceSteps=2,BatchSize=256,TestRepetitions=10,\"\n",
    "                        \"WeightDecay=1e-4,Regularization=L2,\"\n",
    "                        \"DropConfig=0.0+0.0+0.0+0.0, Multithreading=True\");\n",
    "TString trainingStrategyString (\"TrainingStrategy=\");\n",
    "trainingStrategyString += training0 + \"|\" + training1 + \"|\" + training2;\n",
    "\n",
    "// General Options\n",
    "TString dnnOptions (\"!H:!V:ErrorStrategy=CROSSENTROPY:VarTransform=N:\"\n",
    "                          \"WeightInitialization=XAVIERUNIFORM\");\n",
    "dnnOptions.Append (\":\"); dnnOptions.Append (layoutString);\n",
    "dnnOptions.Append (\":\"); dnnOptions.Append (trainingStrategyString);"
   ]
  },
  {
   "cell_type": "markdown",
   "metadata": {},
   "source": [
    "# Booking Methods"
   ]
  },
  {
   "cell_type": "code",
   "execution_count": null,
   "metadata": {},
   "outputs": [],
   "source": [
    "// Standard implementation, no dependencies.\n",
    "TString stdOptions = dnnOptions + \":Architecture=CPU\";\n",
    "factory.BookMethod(&loader, TMVA::Types::kDNN, \"DNN\", stdOptions);\n",
    "\n",
    "// CPU implementation, using BLAS\n",
    "//TString cpuOptions = dnnOptions + \":Architecture=CPU\";\n",
    "//factory->BookMethod(dataloader, TMVA::Types::kDNN, \"DNN CPU\", cpuOptions);\n",
    "\n",
    "// Multi-Layer Perceptron (Neural Network)\n",
    "factory.BookMethod(&loader, TMVA::Types::kMLP, \"MLP\",\n",
    "        \"!H:!V:NeuronType=tanh:VarTransform=N:NCycles=100:HiddenLayers=N+5:TestRate=5:!UseRegulator\");"
   ]
  },
  {
   "cell_type": "markdown",
   "metadata": {},
   "source": [
    "## Train Methods"
   ]
  },
  {
   "cell_type": "code",
   "execution_count": null,
   "metadata": {},
   "outputs": [],
   "source": [
    "factory.TrainAllMethods();"
   ]
  },
  {
   "cell_type": "markdown",
   "metadata": {},
   "source": [
    "## Test and Evaluate Methods"
   ]
  },
  {
   "cell_type": "code",
   "execution_count": null,
   "metadata": {},
   "outputs": [],
   "source": [
    "factory.TestAllMethods();\n",
    "factory.EvaluateAllMethods();    "
   ]
  },
  {
   "cell_type": "markdown",
   "metadata": {},
   "source": [
    "## Plot ROC Curve\n",
    "We enable JavaScript visualisation for the plots"
   ]
  },
  {
   "cell_type": "code",
   "execution_count": null,
   "metadata": {},
   "outputs": [],
   "source": [
    "%jsroot on"
   ]
  },
  {
   "cell_type": "code",
   "execution_count": null,
   "metadata": {},
   "outputs": [],
   "source": [
    "auto c = factory.GetROCCurve(&loader);\n",
    "c->Draw();"
   ]
  }
 ],
 "metadata": {
  "kernelspec": {
   "display_name": "ROOT C++",
   "language": "c++",
   "name": "root"
  },
  "language_info": {
   "codemirror_mode": "text/x-c++src",
   "file_extension": ".C",
   "mimetype": " text/x-c++src",
   "name": "c++"
  }
 },
 "nbformat": 4,
 "nbformat_minor": 1
}
