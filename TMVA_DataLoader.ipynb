{
 "cells": [
  {
   "cell_type": "markdown",
   "metadata": {},
   "source": [
    "<img src=\"http://oproject.org/tiki-download_file.php?fileId=8&display&x=450&y=128\">\n",
    "<img src=\"http://gfif.udea.edu.co/root/tmva/img/tmva_logo.gif\">"
   ]
  },
  {
   "cell_type": "markdown",
   "metadata": {},
   "source": [
    "# DataLoader Example\n",
    "\n",
    "## Declare Factory"
   ]
  },
  {
   "cell_type": "code",
   "execution_count": null,
   "metadata": {
    "collapsed": false
   },
   "outputs": [],
   "source": [
    "TMVA::Tools::Instance();\n",
    "\n",
    "TFile *inputFile = TFile::Open( \"inputdata.root\"); \n",
    "TFile* outputFile = TFile::Open( \"TMVAOutput.root\", \"RECREATE\" );\n",
    "\n",
    "TMVA::Factory *factory = new TMVA::Factory(\"TMVAClassification\", outputFile,\n",
    "                             \"!V:ROC:!Correlations:!Silent:Color:!DrawProgressBar:AnalysisType=Classification\" );"
   ]
  },
  {
   "cell_type": "markdown",
   "metadata": {},
   "source": [
    "## Declare DataLoader(s)"
   ]
  },
  {
   "cell_type": "code",
   "execution_count": null,
   "metadata": {
    "collapsed": false
   },
   "outputs": [],
   "source": [
    "TMVA::DataLoader *loader1=new TMVA::DataLoader(\"dataset1\");\n",
    "\n",
    "loader1->AddVariable( \"var1\", 'F' );\n",
    "loader1->AddVariable( \"var2\", 'F' );\n",
    "loader1->AddVariable( \"var3\", 'F' );\n",
    "\n",
    "TMVA::DataLoader *loader2=new TMVA::DataLoader(\"dataset2\"); \n",
    "\n",
    "loader2->AddVariable( \"var1\", 'F' );\n",
    "loader2->AddVariable( \"var2\", 'F' );\n",
    "loader2->AddVariable( \"var3\", 'F' );\n",
    "loader2->AddVariable( \"var4\", 'F' );\n",
    "loader2->AddVariable( \"var5 := var1-var3\", 'F' );\n",
    "loader2->AddVariable( \"var6 := var1+var2\", 'F' );"
   ]
  },
  {
   "cell_type": "markdown",
   "metadata": {},
   "source": [
    "## Setup Dataset(s)"
   ]
  },
  {
   "cell_type": "code",
   "execution_count": null,
   "metadata": {
    "collapsed": false
   },
   "outputs": [],
   "source": [
    "TTree *tsignal     = (TTree*)inputFile->Get(\"Sig\");\n",
    "TTree *tbackground = (TTree*)inputFile->Get(\"Bkg\");   \n",
    "\n",
    "TCut mycuts = \"\";\n",
    "TCut mycutb = \"\";\n",
    "   \n",
    "loader1->AddSignalTree    ( tsignal,     1.0 );   //signal weight  = 1\n",
    "loader1->AddBackgroundTree( tbackground, 1.0 );   //background weight = 1 \n",
    "loader1->PrepareTrainingAndTestTree( mycuts, mycutb,\n",
    "\"nTrain_Signal=1000:nTrain_Background=1000:SplitMode=Random:NormMode=NumEvents:!V\" ); \n",
    "\n",
    "loader2->AddSignalTree    ( tsignal,     1.0 );   //signal weight  = 1\n",
    "loader2->AddBackgroundTree( tbackground, 1.0 );   //background weight = 1   \n",
    "loader2->PrepareTrainingAndTestTree( mycuts, mycutb,\n",
    "\"nTrain_Signal=1000:nTrain_Background=1000:SplitMode=Random:NormMode=NumEvents:!V\" );   \n"
   ]
  },
  {
   "cell_type": "markdown",
   "metadata": {},
   "source": [
    "# Booking Methods"
   ]
  },
  {
   "cell_type": "markdown",
   "metadata": {},
   "source": [
    "## First dataset"
   ]
  },
  {
   "cell_type": "code",
   "execution_count": null,
   "metadata": {
    "collapsed": false
   },
   "outputs": [],
   "source": [
    "//Boosted Decision Trees\n",
    "factory->BookMethod(loader1,TMVA::Types::kBDT, \"BDT\",\n",
    "\"!V:NTrees=200:MinNodeSize=2.5%:MaxDepth=2:BoostType=AdaBoost:AdaBoostBeta=0.5:UseBaggedBoost:BaggedSampleFraction=0.5:SeparationType=GiniIndex:nCuts=20\" );\n",
    "\n",
    "//Multi-Layer Perceptron (Neural Network)\n",
    "factory->BookMethod(loader1, TMVA::Types::kMLP, \"MLP\", \"!H:!V:NeuronType=tanh:VarTransform=N:NCycles=100:HiddenLayers=N+5:TestRate=5:!UseRegulator\" );"
   ]
  },
  {
   "cell_type": "markdown",
   "metadata": {},
   "source": [
    "## Second dataset"
   ]
  },
  {
   "cell_type": "code",
   "execution_count": null,
   "metadata": {
    "collapsed": false
   },
   "outputs": [],
   "source": [
    "//Boosted Decision Trees\n",
    "factory->BookMethod(loader2,TMVA::Types::kBDT, \"BDT\",\n",
    "\"!V:NTrees=200:MinNodeSize=2.5%:MaxDepth=2:BoostType=AdaBoost:AdaBoostBeta=0.5:UseBaggedBoost:BaggedSampleFraction=0.5:SeparationType=GiniIndex:nCuts=20\" );\n",
    "\n",
    "//Multi-Layer Perceptron\n",
    "factory->BookMethod(loader2, TMVA::Types::kMLP, \"MLP\", \"!H:!V:NeuronType=tanh:VarTransform=N:NCycles=100:HiddenLayers=N+5:TestRate=5:!UseRegulator\" );\n"
   ]
  },
  {
   "cell_type": "markdown",
   "metadata": {},
   "source": [
    "## Train Methods"
   ]
  },
  {
   "cell_type": "code",
   "execution_count": null,
   "metadata": {
    "collapsed": false
   },
   "outputs": [],
   "source": [
    "factory->TrainAllMethods();"
   ]
  },
  {
   "cell_type": "markdown",
   "metadata": {},
   "source": [
    "## Test and Evaluate Methods"
   ]
  },
  {
   "cell_type": "code",
   "execution_count": null,
   "metadata": {
    "collapsed": false
   },
   "outputs": [],
   "source": [
    "factory->TestAllMethods();\n",
    "\n",
    "factory->EvaluateAllMethods();    "
   ]
  },
  {
   "cell_type": "markdown",
   "metadata": {},
   "source": [
    "## Plot ROC Curve"
   ]
  },
  {
   "cell_type": "code",
   "execution_count": null,
   "metadata": {
    "collapsed": false
   },
   "outputs": [],
   "source": [
    "%jsroot\n",
    "TCanvas *c1=factory->GetROCCurve(loader1);\n",
    "c1->Draw();\n"
   ]
  },
  {
   "cell_type": "code",
   "execution_count": null,
   "metadata": {
    "collapsed": false
   },
   "outputs": [],
   "source": [
    "TCanvas *c2=factory->GetROCCurve(loader2);\n",
    "c2->Draw();"
   ]
  },
  {
   "cell_type": "markdown",
   "metadata": {},
   "source": [
    "## Cleanup"
   ]
  },
  {
   "cell_type": "code",
   "execution_count": null,
   "metadata": {
    "collapsed": false
   },
   "outputs": [],
   "source": [
    "std::cout << \"==> TMVAClassification is done!\" << std::endl;\n",
    "outputFile->Close();\n",
    "delete factory;\n",
    "delete loader1;\n",
    "delete loader2;"
   ]
  }
 ],
 "metadata": {
  "kernelspec": {
   "display_name": "ROOT C++",
   "language": "c++",
   "name": "root"
  },
  "language_info": {
   "codemirror_mode": "text/x-c++src",
   "file_extension": ".C",
   "mimetype": " text/x-c++src",
   "name": "c++"
  }
 },
 "nbformat": 4,
 "nbformat_minor": 0
}
