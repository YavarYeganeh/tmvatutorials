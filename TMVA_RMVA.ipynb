{
 "cells": [
  {
   "cell_type": "markdown",
   "metadata": {},
   "source": [
    "<img src=\"http://oproject.org/tiki-download_file.php?fileId=6&display\">\n",
    "<img src=\"http://gfif.udea.edu.co/root/tmva/img/tmva_logo.gif\">\n",
    "# Required headers"
   ]
  },
  {
   "cell_type": "code",
   "execution_count": null,
   "metadata": {
    "collapsed": true
   },
   "outputs": [],
   "source": [
    "#include \"TRInterface.h\"\n",
    "#include \"TMVA/MethodC50.h\"\n",
    "#include \"TMVA/MethodRSNNS.h\"\n",
    "#include \"TMVA/MethodRXGB.h\""
   ]
  },
  {
   "cell_type": "markdown",
   "metadata": {},
   "source": [
    "## Declare Factory"
   ]
  },
  {
   "cell_type": "code",
   "execution_count": null,
   "metadata": {
    "collapsed": false
   },
   "outputs": [],
   "source": [
    "TFile *inputFile  = TFile::Open( \"inputdata.root\"); \n",
    "TFile *outputFile = TFile::Open( \"TMVAOutput.root\", \"RECREATE\" );\n",
    "\n",
    "TMVA::Tools::Instance();\n",
    "TMVA::Factory *factory = new TMVA::Factory(\"TMVAClassification\", outputFile,\n",
    "                             \"!V:ROC:!Correlations:!Silent:Color:!DrawProgressBar:AnalysisType=Classification\" );"
   ]
  },
  {
   "cell_type": "markdown",
   "metadata": {},
   "source": [
    "## Declare DataLoader"
   ]
  },
  {
   "cell_type": "code",
   "execution_count": null,
   "metadata": {
    "collapsed": false
   },
   "outputs": [],
   "source": [
    "TMVA::DataLoader *loader=new TMVA::DataLoader(\"dataset\");\n",
    "\n",
    "//adding variables to dataset\n",
    "loader->AddVariable( \"var1\", 'F' );\n",
    "loader->AddVariable( \"var2\", 'F' );\n",
    "loader->AddVariable( \"var3\", 'F' );\n",
    "loader->AddVariable( \"var4\", 'F' );"
   ]
  },
  {
   "cell_type": "markdown",
   "metadata": {},
   "source": [
    "## Setting up Dataset"
   ]
  },
  {
   "cell_type": "code",
   "execution_count": null,
   "metadata": {
    "collapsed": false
   },
   "outputs": [],
   "source": [
    "TTree *tsignal     = (TTree*)inputFile->Get(\"Sig\");\n",
    "TTree *tbackground = (TTree*)inputFile->Get(\"Bkg\");   \n",
    "TCut mycuts = \"\";\n",
    "TCut mycutb = \"\";\n",
    "   \n",
    "loader->AddSignalTree    ( tsignal,     1.0    );//signal weight     = 1\n",
    "loader->AddBackgroundTree( tbackground, 1.0 );   //background weight = 1 \n",
    "loader->PrepareTrainingAndTestTree( mycuts, mycutb,\n",
    "\"nTrain_Signal=1000:nTrain_Background=1000:SplitMode=Random:NormMode=NumEvents:!V\" ); \n"
   ]
  },
  {
   "cell_type": "markdown",
   "metadata": {},
   "source": [
    "## Booking methods\n",
    "Available Booking methods with options for RMVA are\n",
    "\n",
    "C50 Boosted Decision Trees http://oproject.org/tiki-index.php?page=RMVA#C50Booking\n",
    "\n",
    "RMLP Neural Networks http://oproject.org/tiki-index.php?page=RMVA#RSNNSMLP \n",
    "\n",
    "Extreme Gradient Boosted (RXGB) Decision Trees http://oproject.org/tiki-index.php?page=RMVA#RXGBBooking"
   ]
  },
  {
   "cell_type": "code",
   "execution_count": null,
   "metadata": {
    "collapsed": false
   },
   "outputs": [],
   "source": [
    "//C50 Boosted Decision Trees (BDTs)\n",
    "factory->BookMethod(loader, TMVA::Types::kC50, \"C50\",\"!H:NTrials=5:Rules=kTRUE:ControlSubSet=kFALSE:ControlBands=10:ControlWinnow=kFALSE:ControlNoGlobalPruning=kTRUE:ControlCF=0.25:ControlMinCases=2:ControlFuzzyThreshold=kTRUE:ControlSample=0:ControlEarlyStopping=kTRUE:!V\" );\n",
    "   \n",
    "//Neural Networks using RSNNS package\n",
    "factory->BookMethod(loader, TMVA::Types::kRSNNS, \"RMLP\",\"!H:VarTransform=N:Size=c(5):Maxit=10:InitFunc=Randomize_Weights:LearnFunc=Std_Backpropagation:LearnFuncParams=c(0.2,0):!V\" );\n",
    "\n",
    "//eXtreme Gradient Boosted XGB Decision Trees\n",
    "factory->BookMethod(loader, TMVA::Types::kRXGB, \"RXGB\",\"!V:NRounds=20:MaxDepth=2:Eta=1\" );\n",
    "\n",
    "//TMVA BDTs\n",
    "factory->BookMethod(loader,TMVA::Types::kBDT, \"BDT\",\"!V:NTrees=50:MinNodeSize=2.5%:MaxDepth=2:BoostType=AdaBoost:AdaBoostBeta=0.5:UseBaggedBoost:BaggedSampleFraction=0.5:SeparationType=GiniIndex:nCuts=20\" );"
   ]
  },
  {
   "cell_type": "markdown",
   "metadata": {},
   "source": [
    "## Training the Methods"
   ]
  },
  {
   "cell_type": "code",
   "execution_count": null,
   "metadata": {
    "collapsed": false
   },
   "outputs": [],
   "source": [
    "factory->TrainAllMethods();"
   ]
  },
  {
   "cell_type": "markdown",
   "metadata": {},
   "source": [
    "## Testing and Evaluating the data"
   ]
  },
  {
   "cell_type": "code",
   "execution_count": null,
   "metadata": {
    "collapsed": false
   },
   "outputs": [],
   "source": [
    "factory->TestAllMethods();\n",
    "factory->EvaluateAllMethods();    "
   ]
  },
  {
   "cell_type": "markdown",
   "metadata": {},
   "source": [
    "## Ploting ROC Curve"
   ]
  },
  {
   "cell_type": "code",
   "execution_count": null,
   "metadata": {
    "collapsed": false
   },
   "outputs": [],
   "source": [
    "%jsroot\n",
    "TCanvas *c=factory->GetROCCurve(loader);\n",
    "c->Draw();"
   ]
  },
  {
   "cell_type": "markdown",
   "metadata": {},
   "source": [
    "## Cleaning up"
   ]
  },
  {
   "cell_type": "code",
   "execution_count": null,
   "metadata": {
    "collapsed": false
   },
   "outputs": [],
   "source": [
    "outputFile->Close();\n",
    "delete factory;\n",
    "delete loader;"
   ]
  },
  {
   "cell_type": "code",
   "execution_count": null,
   "metadata": {
    "collapsed": true
   },
   "outputs": [],
   "source": []
  }
 ],
 "metadata": {
  "kernelspec": {
   "display_name": "ROOT C++",
   "language": "c++",
   "name": "root"
  },
  "language_info": {
   "codemirror_mode": "text/x-c++src",
   "file_extension": ".C",
   "mimetype": " text/x-c++src",
   "name": "c++"
  }
 },
 "nbformat": 4,
 "nbformat_minor": 0
}
