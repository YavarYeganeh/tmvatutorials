{
 "cells": [
  {
   "cell_type": "markdown",
   "metadata": {},
   "source": [
    "<img src=\"http://oproject.org/img/ROOT.png\" height=\"30%\" width=\"30%\">\n",
    "<img src=\"http://oproject.org/img/tmvalogo.png\" height=\"30%\" width=\"30%\">\n",
    "\n",
    "# TMVA Variable Importance"
   ]
  },
  {
   "cell_type": "code",
   "execution_count": null,
   "metadata": {},
   "outputs": [],
   "source": [
    "from ROOT import TFile,TMVA, TTree, TCut\n",
    "%jsroot on"
   ]
  },
  {
   "cell_type": "markdown",
   "metadata": {},
   "source": [
    "## Declare DataLoader"
   ]
  },
  {
   "cell_type": "code",
   "execution_count": null,
   "metadata": {},
   "outputs": [],
   "source": [
    "TMVA.Tools.Instance()\n",
    "\n",
    "inputFile = TFile.Open(\"https://raw.githubusercontent.com/iml-wg/tmvatutorials/master/inputdata.root\")\n",
    "\n",
    "loader = TMVA.DataLoader(\"dataset\")\n",
    "\n",
    "loader.AddVariable(\"var1\")\n",
    "loader.AddVariable(\"var2\")\n",
    "loader.AddVariable(\"var3\")\n",
    "loader.AddVariable(\"var4\")\n",
    "loader.AddVariable(\"var5 := var1*var2\")"
   ]
  },
  {
   "cell_type": "markdown",
   "metadata": {},
   "source": [
    "## Setting up dataset"
   ]
  },
  {
   "cell_type": "code",
   "execution_count": null,
   "metadata": {},
   "outputs": [],
   "source": [
    "tsignal = TTree()\n",
    "tbackground = TTree()\n",
    "inputFile.GetObject(\"Sig\", tsignal)\n",
    "inputFile.GetObject(\"Bkg\", tbackground)\n",
    "\n",
    "mycuts = TCut()\n",
    "mycutb = TCut()\n",
    "   \n",
    "loader.AddSignalTree(tsignal, 1)           #signal weight = 1\n",
    "loader.AddBackgroundTree (tbackground, 1)  #background weight = 1 \n",
    "\n",
    "loader.PrepareTrainingAndTestTree(mycuts, mycutb,\n",
    "                                  \"nTrain_Signal=1000:nTrain_Background=1000:nTest_Signal=500:nTest_Background=500:SplitMode=Random:NormMode=NumEvents:!V\" )"
   ]
  },
  {
   "cell_type": "markdown",
   "metadata": {},
   "source": [
    "## Variable importance"
   ]
  },
  {
   "cell_type": "code",
   "execution_count": null,
   "metadata": {},
   "outputs": [],
   "source": [
    "vi = TMVA.VariableImportance(loader)\n",
    "\n",
    "vi.BookMethod(TMVA.Types.kBDT, \"BDT\",\n",
    "\"!V:NTrees=5:MinNodeSize=2.5%:MaxDepth=2:BoostType=AdaBoost:AdaBoostBeta=0.5:UseBaggedBoost:BaggedSampleFraction=0.5:SeparationType=GiniIndex:nCuts=20\" )\n",
    "\n",
    "vi.SetType(TMVA.kShort)\n",
    "\n",
    "vi.Evaluate()"
   ]
  },
  {
   "cell_type": "code",
   "execution_count": null,
   "metadata": {},
   "outputs": [],
   "source": [
    "results=vi.GetResults()\n",
    "results.Print()\n",
    "results.Draw()"
   ]
  }
 ],
 "metadata": {
  "kernelspec": {
   "display_name": "Python 2",
   "language": "python",
   "name": "python2"
  },
  "language_info": {
   "codemirror_mode": {
    "name": "ipython",
    "version": 2
   },
   "file_extension": ".py",
   "mimetype": "text/x-python",
   "name": "python",
   "nbconvert_exporter": "python",
   "pygments_lexer": "ipython2",
   "version": "2.7.13"
  }
 },
 "nbformat": 4,
 "nbformat_minor": 1
}
