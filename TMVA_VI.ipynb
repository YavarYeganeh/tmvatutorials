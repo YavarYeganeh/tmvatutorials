{
 "cells": [
  {
   "cell_type": "markdown",
   "metadata": {},
   "source": [
    "<img src=\"http://oproject.org/tiki-download_file.php?fileId=8&display&x=450&y=128\">\n",
    "<img src=\"http://gfif.udea.edu.co/root/tmva/img/tmva_logo.gif\">"
   ]
  },
  {
   "cell_type": "markdown",
   "metadata": {},
   "source": [
    "## Declare Factory"
   ]
  },
  {
   "cell_type": "code",
   "execution_count": null,
   "metadata": {
    "collapsed": false
   },
   "outputs": [],
   "source": [
    "TMVA::Tools::Instance();\n",
    "\n",
    "TFile* outputFile = TFile::Open( \"TMVAOutputVI.root\", \"RECREATE\" );\n",
    "TFile* inputFile  = TFile::Open( \"inputdata.root\");\n",
    "\n",
    "TMVA::Factory *factory = new TMVA::Factory( \"TMVAClassification\", outputFile,\n",
    "                                               \"!V:!ROC:SilentFile:!Correlations:Silent:Color:!DrawProgressBar:AnalysisType=Classification\" );"
   ]
  },
  {
   "cell_type": "markdown",
   "metadata": {},
   "source": [
    "## Declare DataLoader"
   ]
  },
  {
   "cell_type": "code",
   "execution_count": null,
   "metadata": {
    "collapsed": false
   },
   "outputs": [],
   "source": [
    "TMVA::DataLoader *loader=new TMVA::DataLoader(\"dataset\");\n",
    "\n",
    "loader->AddVariable( \"var1\", 'F' );\n",
    "loader->AddVariable( \"var2\", 'F' );\n",
    "loader->AddVariable( \"var3\", 'F' );\n",
    "loader->AddVariable( \"var4\", 'F' );\n",
    "loader->AddVariable( \"var5 := var1*var2\", 'F' );"
   ]
  },
  {
   "cell_type": "markdown",
   "metadata": {},
   "source": [
    "## Setting up dataset"
   ]
  },
  {
   "cell_type": "code",
   "execution_count": null,
   "metadata": {
    "collapsed": false
   },
   "outputs": [],
   "source": [
    "TTree *tsignal     = (TTree*)inputFile->Get(\"Sig\");\n",
    "TTree *tbackground = (TTree*)inputFile->Get(\"Bkg\");\n",
    "\n",
    "TCut mycuts = \"\"; \n",
    "TCut mycutb = \"\"; \n",
    "   \n",
    "loader->AddSignalTree     (tsignal, 1 );      //signal weight = 1\n",
    "loader->AddBackgroundTree (tbackground, 1 );  //background weight = 1 \n",
    "\n",
    "loader->PrepareTrainingAndTestTree( mycuts, mycutb, \"nTrain_Signal=1000:nTrain_Background=1000:nTest_Signal=500:nTest_Background=500:SplitMode=Random:NormMode=NumEvents:!V\" );"
   ]
  },
  {
   "cell_type": "markdown",
   "metadata": {},
   "source": [
    "## Variable importance"
   ]
  },
  {
   "cell_type": "code",
   "execution_count": null,
   "metadata": {
    "collapsed": false
   },
   "outputs": [],
   "source": [
    "TH1F* importance = factory->EvaluateImportance(loader,TMVA::VIType::kAll,TMVA::Types::kBDT, \"BDT\",\"!V:NTrees=5:MinNodeSize=2.5%:MaxDepth=2:BoostType=AdaBoost:AdaBoostBeta=0.5:UseBaggedBoost:BaggedSampleFraction=0.5:SeparationType=GiniIndex:nCuts=20\" );"
   ]
  },
  {
   "cell_type": "code",
   "execution_count": null,
   "metadata": {
    "collapsed": false
   },
   "outputs": [],
   "source": [
    "%jsroot\n",
    "TCanvas *canvas=new TCanvas(\"Importance\");\n",
    "importance->Draw();\n",
    "canvas->Draw();"
   ]
  },
  {
   "cell_type": "code",
   "execution_count": null,
   "metadata": {
    "collapsed": false
   },
   "outputs": [],
   "source": [
    "outputFile->Close();\n",
    "delete factory;\n",
    "delete loader;\n",
    "delete canvas;"
   ]
  }
 ],
 "metadata": {
  "kernelspec": {
   "display_name": "ROOT C++",
   "language": "c++",
   "name": "root"
  },
  "language_info": {
   "codemirror_mode": "text/x-c++src",
   "file_extension": ".C",
   "mimetype": " text/x-c++src",
   "name": "c++"
  }
 },
 "nbformat": 4,
 "nbformat_minor": 0
}
